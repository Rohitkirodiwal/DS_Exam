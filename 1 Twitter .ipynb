{
 "cells": [
  {
   "cell_type": "markdown",
   "metadata": {
    "id": "rgjw8X2gMsRj"
   },
   "source": [
    "Importing libraries"
   ]
  },
  {
   "cell_type": "code",
   "execution_count": 1,
   "metadata": {
    "id": "Mjuucl3JMvmT"
   },
   "outputs": [],
   "source": [
    "%%capture\n",
    "# Installing and importing required libraries\n",
    "!pip install -U tweepy\n",
    "!pip install -U plotly\n",
    "!pip install -U requests\n",
    "!pip install -U iso639\n",
    "!pip install -U langdetect\n",
    "import tweepy\n",
    "import iso639\n",
    "import requests\n",
    "import tweepy\n",
    "from langdetect import detect\n",
    "import ipywidgets as widgets\n",
    "import matplotlib.pyplot as plt\n",
    "import pandas as pd\n",
    "import plotly.express as px\n",
    "\n",
    "%matplotlib inline"
   ]
  },
  {
   "cell_type": "code",
   "execution_count": 2,
   "metadata": {
    "id": "Wh66mUOZM0tY"
   },
   "outputs": [],
   "source": [
    "#credentials from twitter developer account\n",
    "API_key='yp4yfLevivSOEwgH4qLxEqaWA'\n",
    "API_key_secret='MlCIza4mTIypmfx1HmAPhT8SFNJQk8Vwr8YLlaZ8iibaAqc3Sr'\n",
    "Access_token='1570380778563055618-XRcQJR8x1nSrRRc2CFPiAJh4gnNZY3'\n",
    "Access_token_secret='wAjHaMakwYnrwMeDk3nPZxva6ZlnOKxAvKqLDcRSFVE6h'"
   ]
  },
  {
   "cell_type": "code",
   "execution_count": 3,
   "metadata": {
    "id": "9NodTAGvSBuJ"
   },
   "outputs": [],
   "source": [
    "# Authentication handler with tweepy\n",
    "authenticate = tweepy.OAuthHandler(API_key,API_key_secret)\n",
    "# Setting access tokens to the handler\n",
    "authenticate.set_access_token(Access_token,Access_token_secret)\n",
    "#defining api\n",
    "API = tweepy.API(authenticate,wait_on_rate_limit=True)"
   ]
  },
  {
   "cell_type": "markdown",
   "metadata": {
    "id": "rPMhKcExNsrv"
   },
   "source": [
    "For trends in India we have to get where on earth id(woeid)"
   ]
  },
  {
   "cell_type": "code",
   "execution_count": 4,
   "metadata": {
    "id": "74pGytPeNvBb"
   },
   "outputs": [],
   "source": [
    "woeid=23424848"
   ]
  },
  {
   "cell_type": "markdown",
   "metadata": {
    "id": "DnBRQrJXN2s1"
   },
   "source": [
    "Get twitter Trends By WOEID"
   ]
  },
  {
   "cell_type": "code",
   "execution_count": 5,
   "metadata": {
    "colab": {
     "base_uri": "https://localhost:8080/"
    },
    "executionInfo": {
     "elapsed": 409,
     "status": "ok",
     "timestamp": 1689607393626,
     "user": {
      "displayName": "Kiranmai Arnepalli",
      "userId": "17827453611620659025"
     },
     "user_tz": -330
    },
    "id": "s_GM0E4ob3l-",
    "outputId": "4af87b1f-6fd4-4868-b568-114e446df68c"
   },
   "outputs": [
    {
     "name": "stdout",
     "output_type": "stream",
     "text": [
      "An exception occurred 403 Forbidden\n",
      "453 - You currently have access to a subset of Twitter API v2 endpoints and limited v1.1 endpoints (e.g. media post, oauth) only. If you need access to this endpoint, you may need a different access level. You can learn more here: https://developer.twitter.com/en/portal/product\n"
     ]
    }
   ],
   "source": [
    "def get_trends_by_location(loc_id,count):\n",
    "    '''Get Trending Tweets by Location'''\n",
    "\n",
    "    try:\n",
    "        trends = API.get_place_trends(loc_id)\n",
    "        df = pd.DataFrame([trending['name'],  trending['tweet_volume'], iso639.to_name(detect(trending['name']))] for trending in trends[0]['trends'])\n",
    "        df.columns = ['Trends','Volume','Language']\n",
    "        df = df.sort_values('Volume', ascending = True)\n",
    "        return(df[:count])\n",
    "    except Exception as e:\n",
    "        print(\"An exception occurred\",e)\n",
    "\n",
    "\n",
    "df_india_trends = get_trends_by_location(23424848, 10)\n",
    "df_india_trends"
   ]
  },
  {
   "cell_type": "code",
   "execution_count": 6,
   "metadata": {
    "id": "qRHpoa78uq1S"
   },
   "outputs": [],
   "source": [
    "# Setting style for slider widget\n",
    "style={'description_width':'initial'}"
   ]
  },
  {
   "cell_type": "code",
   "execution_count": 7,
   "metadata": {
    "id": "edbvck3nuroG"
   },
   "outputs": [],
   "source": [
    "# setting limits, default value and other values for slider\n",
    "limit_case = widgets.IntSlider(value=10,min=5,max=50,step=1,description='Top:',disabled=False,style=style)"
   ]
  },
  {
   "cell_type": "code",
   "execution_count": 8,
   "metadata": {
    "id": "sQNLm4CKuuAZ"
   },
   "outputs": [],
   "source": [
    "# defining a function to plot data\n",
    "def top_n_trends(n):\n",
    "    ''' Function Prints top n trending topics in India in last 24 hours, and plots out barchart for number of posts for those topics(if available on API)\n",
    "    n: number of topics'''\n",
    "    # creating a Dataframe for topics and volume\n",
    "    df = pd.DataFrame([(j['name'],j['tweet_volume']) for j in API.get_place_trends(id=woeid)[0]['trends'][:n]],columns=(['Topic','volume']))\n",
    "    # Plotting Top N topics\n",
    "    px.bar(df,x='Topic',y='volume',hover_data=['Topic','volume'],color='Topic').show()"
   ]
  },
  {
   "cell_type": "markdown",
   "metadata": {
    "id": "8M6ZuRL9uwqY"
   },
   "source": [
    "Visualize"
   ]
  },
  {
   "cell_type": "code",
   "execution_count": 9,
   "metadata": {
    "id": "yZ1irUn7u2iF"
   },
   "outputs": [
    {
     "data": {
      "application/vnd.jupyter.widget-view+json": {
       "model_id": "b3d4dea33e1e40e190b9b72d23f19a0e",
       "version_major": 2,
       "version_minor": 0
      },
      "text/plain": [
       "interactive(children=(IntSlider(value=10, description='Top:', max=50, min=5, style=SliderStyle(description_wid…"
      ]
     },
     "metadata": {},
     "output_type": "display_data"
    }
   ],
   "source": [
    "widgets.interactive(top_n_trends,n=limit_case)"
   ]
  },
  {
   "cell_type": "code",
   "execution_count": null,
   "metadata": {},
   "outputs": [],
   "source": []
  }
 ],
 "metadata": {
  "colab": {
   "provenance": []
  },
  "kernelspec": {
   "display_name": "Python 3 (ipykernel)",
   "language": "python",
   "name": "python3"
  },
  "language_info": {
   "codemirror_mode": {
    "name": "ipython",
    "version": 3
   },
   "file_extension": ".py",
   "mimetype": "text/x-python",
   "name": "python",
   "nbconvert_exporter": "python",
   "pygments_lexer": "ipython3",
   "version": "3.9.13"
  }
 },
 "nbformat": 4,
 "nbformat_minor": 1
}
